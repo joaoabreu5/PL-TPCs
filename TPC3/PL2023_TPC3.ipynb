{
  "cells": [
    {
      "attachments": {},
      "cell_type": "markdown",
      "metadata": {},
      "source": [
        "# TPC3: Processador de Pessoas listadas nos Róis de Confessados\n",
        "\n",
        "Construa agora um ou vários programas Python para processar o texto 'processos.txt' (procurar o ficheiro no Bb) com o intuito de calcular frequências de alguns elementos (a ideia é utilizar arrays associativos, dicionáriosem Python, para o efeito) conforme solicitado a seguir:\n",
        "\n",
        "### Bibliotecas importadas"
      ]
    },
    {
      "cell_type": "code",
      "execution_count": null,
      "metadata": {},
      "outputs": [],
      "source": [
        "import re\n",
        "import json\n",
        "from prettytable import PrettyTable"
      ]
    },
    {
      "attachments": {},
      "cell_type": "markdown",
      "metadata": {},
      "source": [
        "### Funções auxiliares para impressão de distribuições"
      ]
    },
    {
      "attachments": {},
      "cell_type": "markdown",
      "metadata": {},
      "source": [
        "Alíneas a) e c)"
      ]
    },
    {
      "cell_type": "code",
      "execution_count": null,
      "metadata": {},
      "outputs": [],
      "source": [
        "def print_distribuicao(table_title, table_fields, data):\n",
        "    table = PrettyTable()\n",
        "    table.title = table_title\n",
        "    table.field_names = table_fields\n",
        "\n",
        "    total = sum(data.values())\n",
        "    for key in data:\n",
        "        percentage = data[key] / total * 100\n",
        "        \n",
        "        precision = 2\n",
        "        while round(percentage, precision) == 0.00:\n",
        "            precision += 1\n",
        "\n",
        "        table.add_row([key, data[key], '{:.{}f} %'.format(percentage, precision)])\n",
        "\n",
        "    print(table)"
      ]
    },
    {
      "attachments": {},
      "cell_type": "markdown",
      "metadata": {},
      "source": [
        "Alínea b)"
      ]
    },
    {
      "cell_type": "code",
      "execution_count": null,
      "metadata": {},
      "outputs": [],
      "source": [
        "def print_top5_nomes_por_seculo(table_title, table_fields, data):\n",
        "    for seculo in data:\n",
        "        if len(data[seculo]) > 0:    \n",
        "            table = PrettyTable()\n",
        "            table.title = table_title + \" \" + str(seculo)\n",
        "            table.field_names = table_fields\n",
        "            \n",
        "            total = sum(data[seculo].values())\n",
        "            pos = 1\n",
        "            ref_value = None\n",
        "            \n",
        "            i = 0\n",
        "            for nome in data[seculo]:\n",
        "                freq = data[seculo][nome]\n",
        "                \n",
        "                if ref_value is None:\n",
        "                    ref_value = freq\n",
        "\n",
        "                elif freq < ref_value:\n",
        "                    pos = i+1;\n",
        "                    ref_value = freq\n",
        "            \n",
        "                if pos <= 5:\n",
        "                    percentage = freq / total * 100\n",
        "                    \n",
        "                    precision = 2\n",
        "                    while round(percentage, precision) == 0.00:\n",
        "                        precision += 1\n",
        "                        \n",
        "                    table.add_row([pos, nome, freq, '{:.{}f} %'.format(percentage, precision)])\n",
        "                    \n",
        "                else:\n",
        "                    break\n",
        "                \n",
        "                i+=1\n",
        "                \n",
        "            print(table)\n",
        "            print(\"\\n\", end='')"
      ]
    },
    {
      "attachments": {},
      "cell_type": "markdown",
      "metadata": {},
      "source": [
        "### Programas implementados"
      ]
    },
    {
      "attachments": {},
      "cell_type": "markdown",
      "metadata": {},
      "source": [
        "> a) Calcula a frequência de processos por ano (primeiro elemento da data);\n",
        "\n",
        "> Obs: ***Ficheiro 'TPC3_ExA.py'***"
      ]
    },
    {
      "cell_type": "code",
      "execution_count": null,
      "metadata": {},
      "outputs": [],
      "source": [
        "def processos_ano():\n",
        "    file = open(\"processos.txt\", \"r\")\n",
        "    proc_ano = dict()\n",
        "    for line in file:\n",
        "        r = re.match(r\"\\d+::(?P<ano>\\d+)-\\d{2}-\\d{2}::([A-Z][a-z]*) ([A-Z][a-z]* ){0,}([A-Z][a-z]*)\", line)\n",
        "        if r is not None:\n",
        "            ano = int(r.group('ano'))\n",
        "            if ano in proc_ano:\n",
        "                proc_ano[ano] += 1\n",
        "            else:\n",
        "                proc_ano[ano] = 1\n",
        "                \n",
        "    file.close()\n",
        "    return dict(sorted(proc_ano.items(), key=lambda x: x[1], reverse=True))\n",
        "\n",
        "def main():\n",
        "    proc_ano = processos_ano()\n",
        "    print_distribuicao(\"Processos por ano\", [\"Ano\", \"Nº de Processos\", \"Percentagem (%)\"], proc_ano)\n",
        "\n",
        "if __name__ == '__main__':\n",
        "    main()"
      ]
    },
    {
      "attachments": {},
      "cell_type": "markdown",
      "metadata": {},
      "source": [
        "> b) Calcula a frequência de nomes próprios (o primeiro em cada nome) e apelidos (o ultimo em cada nome) por séculos e apresenta os 5 mais usados;\n",
        "\n",
        "> Obs: ***Ficheiro 'TPC3_ExB.py'***"
      ]
    },
    {
      "cell_type": "code",
      "execution_count": null,
      "metadata": {},
      "outputs": [],
      "source": [
        "def nomes_e_apelidos():\n",
        "    file = open(\"processos.txt\", \"r\")\n",
        "    dict_pnomes = dict()\n",
        "    dict_apelidos = dict()\n",
        "    \n",
        "    for line in file:\n",
        "        m_ano = re.match(r\"\\d+::(?P<ano>\\d+)-\\d{2}-\\d{2}::([A-Z][a-z]*) ([A-Z][a-z]* ){0,}([A-Z][a-z]*)\", line)\n",
        "        fall_nomes = re.findall(r\"::([A-Z][a-z]*) ([A-Z][a-z]* ){0,}([A-Z][a-z]*)\", line)\n",
        "        \n",
        "        if m_ano is not None and fall_nomes is not None:\n",
        "            ano = int(m_ano.group('ano'))\n",
        "            seculo = (ano - 1) // 100 + 1\n",
        "\n",
        "            fall_nomes = fall_nomes[:3]\n",
        "            for match in fall_nomes:\n",
        "                primeiro_nome = match[0]\n",
        "                apelido = match[-1]\n",
        "                \n",
        "                if seculo in dict_pnomes:\n",
        "                    if primeiro_nome in dict_pnomes[seculo]:\n",
        "                        dict_pnomes[seculo][primeiro_nome] += 1\n",
        "                    else:\n",
        "                        dict_pnomes[seculo][primeiro_nome] = 1\n",
        "                else:\n",
        "                    dict_pnomes[seculo] = dict()\n",
        "                    dict_pnomes[seculo][primeiro_nome] = 1\n",
        "                    \n",
        "                if seculo in dict_apelidos:\n",
        "                    if apelido in dict_apelidos[seculo]:\n",
        "                        dict_apelidos[seculo][apelido] += 1\n",
        "                    else:\n",
        "                        dict_apelidos[seculo][apelido] = 1\n",
        "                else:\n",
        "                    dict_apelidos[seculo] = dict()\n",
        "                    dict_apelidos[seculo][apelido] = 1     \n",
        "    \n",
        "    file.close()\n",
        "    \n",
        "    dict_pnomes = dict(sorted(dict_pnomes.items(), reverse=True))\n",
        "    for seculo in dict_pnomes:\n",
        "        dict_pnomes[seculo] = dict(sorted(dict_pnomes[seculo].items(), key=lambda x: x[1], reverse=True))\n",
        "    \n",
        "    dict_apelidos = dict(sorted(dict_apelidos.items(), reverse=True))\n",
        "    for seculo in dict_apelidos:\n",
        "        dict_apelidos[seculo] = dict(sorted(dict_apelidos[seculo].items(), key=lambda x: x[1], reverse=True))\n",
        "\n",
        "    return (dict_pnomes, dict_apelidos)\n",
        "\n",
        "dict_pnomes, dict_apelidos = nomes_e_apelidos()\n",
        "print_top5_nomes_por_seculo(\"Top 5 de primeiros nomes no século\", [\"Pos.\", \"Primeiro nome\", \"Frequência\", \"Percentagem (%)\"], dict_pnomes)\n",
        "print(\"\\n\")\n",
        "print_top5_nomes_por_seculo(\"Top 5 de apelidos no século\", [\"Pos.\", \"Apelido\", \"Frequência\", \"Percentagem (%)\"], dict_apelidos)"
      ]
    },
    {
      "attachments": {},
      "cell_type": "markdown",
      "metadata": {},
      "source": [
        "> c) Calcula a frequência dos vários tipos de relação: irmão, sobrinho, etc.;\n",
        "\n",
        "> Obs: ***Ficheiro 'TPC3_ExC.py'***"
      ]
    },
    {
      "cell_type": "code",
      "execution_count": null,
      "metadata": {},
      "outputs": [],
      "source": [
        "def relacoes():\n",
        "    file = open(\"processos.txt\", \"r\")\n",
        "    dict_relacoes = dict()\n",
        "\n",
        "    for line in file:\n",
        "        r = re.match(r\"\\d+::(?P<ano>\\d+)-\\d{2}-\\d{2}::([A-Z][a-z]*) ([A-Z][a-z]* ){0,}([A-Z][a-z]*)\", line)\n",
        "        fall_relacoes = re.findall(r\",([a-zA-z]+)((?: +[a-zA-z]+)*)\\. +Proc.\\d+\\.\", line)\n",
        "        \n",
        "        if r is not None:  \n",
        "            for match in fall_relacoes:\n",
        "                rel = ''\n",
        "                for p in match:\n",
        "                    rel += p\n",
        "                \n",
        "                if rel in dict_relacoes:\n",
        "                    dict_relacoes[rel] += 1\n",
        "                else:\n",
        "                    dict_relacoes[rel] = 1\n",
        "                        \n",
        "    file.close()\n",
        "    return dict(sorted(dict_relacoes.items(), key=lambda x: x[1], reverse=True))\n",
        "\n",
        "\n",
        "dict_relacoes = relacoes()\n",
        "print_distribuicao(\"Relações presentes em registos de processos\", [\"Relação\", \"Frequência\", \"Percentagem (%)\"], dict_relacoes)"
      ]
    },
    {
      "attachments": {},
      "cell_type": "markdown",
      "metadata": {},
      "source": [
        "> d) Converta os 20 primeiros registos num novo ficheiro de output mas em formato **Json**.\n",
        "\n",
        "> Obs: ***Ficheiro 'TPC3_ExD.py'***"
      ]
    },
    {
      "cell_type": "code",
      "execution_count": null,
      "metadata": {},
      "outputs": [],
      "source": [
        "def first_20_registers_to_json():\n",
        "    first_20_lines = []\n",
        "    nome_campos = ['id','data','nome','pai','mãe','observações']\n",
        "    \n",
        "    read_file = open(\"processos.txt\", \"r\")\n",
        "    for line in read_file:\n",
        "        r = re.match(r\"\\d+::(?P<ano>\\d+)-\\d{2}-\\d{2}::([A-Z][a-z]*) ([A-Z][a-z]* ){0,}([A-Z][a-z]*)\", line)\n",
        "        if r is not None:\n",
        "            campos = re.split(\"::\", line)\n",
        "            line_to_json = dict()\n",
        "            for i in range(6):\n",
        "                line_to_json[nome_campos[i]] = campos[i]\n",
        "            first_20_lines.append(line_to_json)\n",
        "        \n",
        "        if len(first_20_lines) >= 20:\n",
        "            break\n",
        "    \n",
        "    read_file.close()\n",
        "        \n",
        "    dict_processos = dict()\n",
        "    dict_processos['processos'] = first_20_lines\n",
        "    \n",
        "    write_file = open(\"processos20.json\", \"w\")\n",
        "    json.dump(dict_processos, write_file, ensure_ascii=False, indent=2)    \n",
        "    write_file.close()\n",
        "\n",
        "            \n",
        "first_20_registers_to_json()"
      ]
    }
  ],
  "metadata": {
    "colab": {
      "provenance": []
    },
    "kernelspec": {
      "display_name": "Python 3",
      "name": "python3"
    },
    "language_info": {
      "codemirror_mode": {
        "name": "ipython",
        "version": 3
      },
      "file_extension": ".py",
      "mimetype": "text/x-python",
      "name": "python",
      "nbconvert_exporter": "python",
      "pygments_lexer": "ipython3",
      "version": "3.10.6"
    }
  },
  "nbformat": 4,
  "nbformat_minor": 0
}
