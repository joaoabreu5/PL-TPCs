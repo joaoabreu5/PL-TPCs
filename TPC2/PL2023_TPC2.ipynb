{
 "cells": [
  {
   "cell_type": "markdown",
   "metadata": {
    "id": "6nFoODdAH7Ha"
   },
   "source": [
    "# TPC2: Somador on/off\n",
    "\n",
    "Crie um programa em Python que tenha o seguinte comportamento:\n",
    "\n",
    "  * Pretende-se um programa que some todas as sequências de dígitos que encontre num texto;\n",
    "  * Prepare o programa para ler o texto do canal de entrada: stdin;\n",
    "  * Sempre que encontrar a string “Off” em qualquer combinação de maiúsculas e minúsculas, esse comportamento é desligado;\n",
    "  * Sempre que encontrar a string “On” em qualquer combinação de maiúsculas e minúsculas, esse comportamento é novamente ligado;\n",
    "  * Sempre que encontrar o caráter “=”, o resultado da soma é colocado na saída.\n"
   ]
  },
  {
   "attachments": {},
   "cell_type": "markdown",
   "metadata": {},
   "source": [
    "## Resolução"
   ]
  },
  {
   "attachments": {},
   "cell_type": "markdown",
   "metadata": {},
   "source": [
    "### Bibliotecas importadas"
   ]
  },
  {
   "cell_type": "code",
   "execution_count": null,
   "metadata": {},
   "outputs": [],
   "source": [
    "import sys"
   ]
  },
  {
   "attachments": {},
   "cell_type": "markdown",
   "metadata": {},
   "source": [
    "### Programa criado"
   ]
  },
  {
   "cell_type": "code",
   "execution_count": null,
   "metadata": {},
   "outputs": [],
   "source": [
    "def read_stdin():\n",
    "    text = \"\"\n",
    "    for line in sys.stdin:\n",
    "        text += line\n",
    "    return text\n",
    "\n",
    "def parse(text):\n",
    "    numbers = []\n",
    "    state_on = True\n",
    "    last_3_chars = \"\"\n",
    "    \n",
    "    i = 0\n",
    "    for line in text:\n",
    "        for char in line:\n",
    "            if state_on is True:\n",
    "                if char.isnumeric():\n",
    "                    if i == len(numbers):\n",
    "                        numbers.append(\"\")\n",
    "                    if i < len(numbers):\n",
    "                        numbers[i] += char \n",
    "                else:\n",
    "                    if char == '=':\n",
    "                        numbers.append('=')\n",
    "                        i += 1\n",
    "                    if i < len(numbers) and numbers[i] != \"\":\n",
    "                        i += 1\n",
    "                        \n",
    "            if len(last_3_chars) < 3:\n",
    "                last_3_chars += char\n",
    "            else:\n",
    "                last_3_chars = last_3_chars[1:3] + char\n",
    "            \n",
    "            if last_3_chars.lower() == \"off\":\n",
    "                state_on = False\n",
    "            elif last_3_chars.lower() == \"on\" or last_3_chars[1:3].lower() == \"on\":\n",
    "                state_on = True\n",
    "                \n",
    "    return numbers\n",
    "\n",
    "def imprime_resultado(numbers):\n",
    "    soma = 0\n",
    "    str_soma = \"\"\n",
    "    first_n = True\n",
    "    n_igual = 0\n",
    "    \n",
    "    for n in numbers:\n",
    "        if n != '=':\n",
    "            soma += int(n)\n",
    "            if first_n is True:\n",
    "                str_soma += n\n",
    "            else:\n",
    "                str_soma += \" + \" + n\n",
    "            first_n = False \n",
    "        else:\n",
    "            n_igual += 1\n",
    "            str_soma = \"[\" + str(n_igual) + \"º =] \" + str_soma + \" = \" + str(soma) + \"\\n\"\n",
    "            print(str_soma, end='')\n",
    "\n",
    "            str_soma = str(soma)\n",
    "            first_n = False\n",
    "\n",
    "def main():\n",
    "    print(\"Input:\")\n",
    "    text = read_stdin()\n",
    "    numbers = parse(text)\n",
    "    if len(text) == 0 or text[-1].strip() == '':\n",
    "        print(\"\\nOutput:\")\n",
    "    else:\n",
    "        print(\"\\n\\nOutput:\")\n",
    "    imprime_resultado(numbers)\n",
    "    \n",
    "main()"
   ]
  }
 ],
 "metadata": {
  "colab": {
   "provenance": []
  },
  "kernelspec": {
   "display_name": "Python 3",
   "language": "python",
   "name": "python3"
  },
  "language_info": {
   "codemirror_mode": {
    "name": "ipython",
    "version": 3
   },
   "file_extension": ".py",
   "mimetype": "text/x-python",
   "name": "python",
   "nbconvert_exporter": "python",
   "pygments_lexer": "ipython3",
   "version": "3.10.6"
  },
  "vscode": {
   "interpreter": {
    "hash": "916dbcbb3f70747c44a77c7bcd40155683ae19c65e1c03b4aa3499c5328201f1"
   }
  }
 },
 "nbformat": 4,
 "nbformat_minor": 1
}
