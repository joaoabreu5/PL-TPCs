{
 "cells": [
  {
   "cell_type": "markdown",
   "metadata": {},
   "source": [
    "# TPC1: Análise de dados: doença cardíaca"
   ]
  },
  {
   "cell_type": "markdown",
   "metadata": {},
   "source": [
    "Bibliotecas importadas:"
   ]
  },
  {
   "cell_type": "code",
   "execution_count": null,
   "metadata": {},
   "outputs": [],
   "source": [
    "from prettytable import PrettyTable\n",
    "import matplotlib.pyplot as plt"
   ]
  },
  {
   "cell_type": "markdown",
   "metadata": {},
   "source": [
    "1. Crie uma função que lê a informação do ficheiro para um modelo, previamente pensado em memória;"
   ]
  },
  {
   "cell_type": "code",
   "execution_count": null,
   "metadata": {},
   "outputs": [],
   "source": [
    "def read_file():\n",
    "    data = dict()\n",
    "    data['D'] = []\n",
    "    data['ND'] = []\n",
    "    \n",
    "    file = open(\"myheart.csv\", \"r\")\n",
    "    i = 0\n",
    "    for line in file:\n",
    "        if i>0:\n",
    "            append = True\n",
    "            dados_linha = line.strip().split(\",\")\n",
    "            if len(dados_linha) >= 6:\n",
    "                \n",
    "                idade = dados_linha[0]\n",
    "                if idade.isnumeric():\n",
    "                    idade = int(idade)\n",
    "                else:\n",
    "                    append = False\n",
    "                    \n",
    "                sexo = dados_linha[1]\n",
    "                if sexo != 'M' and sexo != 'F':\n",
    "                    append = False\n",
    "\n",
    "                tensao = dados_linha[2]\n",
    "                if tensao.isnumeric():\n",
    "                    tensao = int(tensao)\n",
    "                else:\n",
    "                    append = False\n",
    "                    \n",
    "                colestrol = dados_linha[3]\n",
    "                if colestrol.isnumeric():\n",
    "                    colestrol = int(colestrol)\n",
    "                else:\n",
    "                    append = False\n",
    "                \n",
    "                batimento = dados_linha[4]\n",
    "                if batimento.isnumeric():\n",
    "                    batimento = int(batimento)\n",
    "                else:\n",
    "                    append = False\n",
    "                \n",
    "                if dados_linha[5] == '1':\n",
    "                    temDoenca = True\n",
    "                elif dados_linha[5] == '0':\n",
    "                    temDoenca = False\n",
    "                else:\n",
    "                    append = False\n",
    "                    \n",
    "                if append is True:\n",
    "                    if temDoenca is True:\n",
    "                        data['D'].append((idade,sexo,tensao,colestrol,batimento))\n",
    "                    elif temDoenca is False:\n",
    "                        data['ND'].append((idade,sexo,tensao,colestrol,batimento))                    \n",
    "        i += 1\n",
    "        \n",
    "    file.close()\n",
    "    return data"
   ]
  },
  {
   "cell_type": "markdown",
   "metadata": {},
   "source": [
    "2. Pense num modelo para guardar uma distribuição;"
   ]
  },
  {
   "attachments": {},
   "cell_type": "markdown",
   "metadata": {},
   "source": [
    "O modelo utilizado para guardar cada distribuição será um dicionário. Como chave de cada dicionário serão utilizados os valores da distribuição em questão e o respetivo valor associado a cada chave do dicionário corresponderá à frequência do valor da chave na distribuição em causa."
   ]
  },
  {
   "cell_type": "markdown",
   "metadata": {},
   "source": [
    "3. Crie uma função que calcula a distribuição da doença por sexo;"
   ]
  },
  {
   "cell_type": "code",
   "execution_count": null,
   "metadata": {},
   "outputs": [],
   "source": [
    "def dist_sexo(data):\n",
    "    dist_sexo = dict()\n",
    "    dist_sexo['Masculino'] = 0\n",
    "    dist_sexo['Feminino'] = 0\n",
    "\n",
    "    for tuplo in data:\n",
    "        sexo = tuplo[1]\n",
    "        if sexo == 'M':\n",
    "            dist_sexo['Masculino'] += 1\n",
    "        elif sexo == 'F':\n",
    "            dist_sexo['Feminino'] += 1\n",
    "        \n",
    "    return dist_sexo"
   ]
  },
  {
   "cell_type": "markdown",
   "metadata": {},
   "source": [
    "4. Crie uma função que calcula a distribuição da doença por escalões etários. Considere os seguintes escalões: [30-34], [35-39], [40-44], ..."
   ]
  },
  {
   "cell_type": "code",
   "execution_count": null,
   "metadata": {},
   "outputs": [],
   "source": [
    "def dist_idade(data):\n",
    "    dist_idade = dict()\n",
    "    x1_idade_min = 30\n",
    "    x1_idade_max = None\n",
    "\n",
    "    for tuplo in data:\n",
    "        idade = tuplo[0]\n",
    "        int_idade = (idade//5*5, (idade//5+1)*5-1)\n",
    "        if int_idade not in dist_idade:\n",
    "            dist_idade[int_idade] = 1\n",
    "        else:\n",
    "            dist_idade[int_idade] += 1\n",
    "        \n",
    "        if int_idade[0] < x1_idade_min:\n",
    "            x1_idade_min = int_idade[0]\n",
    "        \n",
    "        if x1_idade_max is None:\n",
    "            x1_idade_max = int_idade[0]\n",
    "        elif int_idade[0] > x1_idade_max:\n",
    "            x1_idade_max = int_idade[0]\n",
    "    \n",
    "    if x1_idade_max is not None:\n",
    "        i = x1_idade_min\n",
    "        while i<=x1_idade_max:\n",
    "            if (i,i+4) not in dist_idade:\n",
    "                dist_idade[(i,i+4)] = 0\n",
    "            i+=5\n",
    "                \n",
    "    return dict(sorted(dist_idade.items()))"
   ]
  },
  {
   "cell_type": "markdown",
   "metadata": {},
   "source": [
    " 5. Crie uma função que calcula a distribuição da doença por níveis de colesterol. Considere um nível igual a um intervalo de 10 unidades, comece no limite inferior e crie os níveis necessários até abranger o limite superior;"
   ]
  },
  {
   "cell_type": "code",
   "execution_count": null,
   "metadata": {},
   "outputs": [],
   "source": [
    "def colestrol_min_max(data):\n",
    "    colestrol_min = None\n",
    "    colestrol_max = None\n",
    "    for tuplo in data:\n",
    "        colestrol = tuplo[3]\n",
    "        \n",
    "        if colestrol_min is None:\n",
    "            colestrol_min = colestrol\n",
    "        elif colestrol < colestrol_min:\n",
    "            colestrol_min = colestrol\n",
    "        \n",
    "        if colestrol_max is None:\n",
    "            colestrol_max = colestrol\n",
    "        elif colestrol > colestrol_max:\n",
    "            colestrol_max = colestrol\n",
    "            \n",
    "    return (colestrol_min, colestrol_max)\n",
    "\n",
    "def dist_colestrol(data):\n",
    "    colestrol_min, colestrol_max = colestrol_min_max(data)\n",
    "    dist_colestrol = dict()\n",
    "    \n",
    "    i=colestrol_min\n",
    "    while i<=colestrol_max:\n",
    "        dist_colestrol[(i,i+9)] = 0\n",
    "        i+=10\n",
    "    \n",
    "    for tuplo in data:\n",
    "        colestrol = tuplo[3]\n",
    "        int_colestrol = (colestrol_min+(colestrol-colestrol_min)//10*10, colestrol_min+((colestrol-colestrol_min)//10+1)*10-1)\n",
    "        if int_colestrol not in dist_colestrol:\n",
    "            dist_colestrol[int_colestrol] = 1\n",
    "        else:\n",
    "            dist_colestrol[int_colestrol] += 1\n",
    "                \n",
    "    return dict(sorted(dist_colestrol.items()))"
   ]
  },
  {
   "cell_type": "markdown",
   "metadata": {},
   "source": [
    " 6. Crie uma função que imprime na forma de uma tabela uma distribuição;"
   ]
  },
  {
   "cell_type": "code",
   "execution_count": null,
   "metadata": {},
   "outputs": [],
   "source": [
    "def print_distribuicao(table_title, table_fields, data):\n",
    "    table = PrettyTable()\n",
    "    table.title = table_title\n",
    "    table.field_names = table_fields\n",
    "    \n",
    "    total = sum(data.values())\n",
    "    for key in data:\n",
    "        percentage = data[key] / total * 100\n",
    "        table.add_row([key, data[key], '{:.2f} %'.format(percentage)])\n",
    "\n",
    "    print(table)\n",
    "\n",
    "def tuplo_para_intervalo(t):\n",
    "    return f\"[{t[0]}-{t[1]}]\"\n",
    "\n",
    "def print_distribuicao_int(table_title, table_fields, data):\n",
    "    table = PrettyTable()\n",
    "    table.title = table_title\n",
    "    table.field_names = table_fields\n",
    "\n",
    "    total = sum(data.values())\n",
    "    for key in data:\n",
    "        percentage = data[key] / total * 100\n",
    "        table.add_row([tuplo_para_intervalo(key), data[key], '{:.2f} %'.format(percentage)])\n",
    "\n",
    "    print(table)"
   ]
  },
  {
   "cell_type": "markdown",
   "metadata": {},
   "source": [
    "7. Especifique um programa que ao executar apresenta as tabelas correspondentes às distribuições pedidas;"
   ]
  },
  {
   "cell_type": "code",
   "execution_count": null,
   "metadata": {},
   "outputs": [],
   "source": [
    "data = read_file()\n",
    "dict_dist_sex = dist_sexo(data['D'])\n",
    "dict_dist_idade = dist_idade(data['D'])\n",
    "dict_dist_colestrol = dist_colestrol(data['D'])\n",
    "\n",
    "print_distribuicao(\"Distribuição da doença por sexo\", [\"Sexo\", \"Frequência\", \"Percentagem (%)\"], dict_dist_sex)\n",
    "print(\"\\n\", end='')\n",
    "print_distribuicao_int(\"Distribuição da doença por escalão etário\", [\"Idade\", \"Frequência\", \"Percentagem (%)\"], dict_dist_idade)\n",
    "print(\"\\n\", end='')\n",
    "print_distribuicao_int(\"Distribuição da doença por nível de colestrol\", [\"Colestrol\", \"Frequência\", \"Percentagem (%)\"], dict_dist_colestrol)\n",
    "print(\"\\n\", end='')"
   ]
  },
  {
   "cell_type": "markdown",
   "metadata": {},
   "source": [
    "8. Extra: explore o módulo matplotlib e crie gráficos para as suas distribuições."
   ]
  },
  {
   "cell_type": "code",
   "execution_count": null,
   "metadata": {},
   "outputs": [],
   "source": [
    "def grafico_barras(titulo, eixo_x, eixo_y, data):\n",
    "    x_values = [str(key) for key in data.keys()]\n",
    "    y_values = data.values()\n",
    "\n",
    "    barras = plt.bar(x_values, y_values)\n",
    "    plt.bar_label(barras, labels=y_values)\n",
    "\n",
    "    manager = plt.get_current_fig_manager()\n",
    "    manager.set_window_title(titulo)\n",
    "\n",
    "    plt.title(titulo)\n",
    "    plt.xlabel(eixo_x)\n",
    "    plt.ylabel(eixo_y)\n",
    "    \n",
    "    plt.show()\n",
    "    \n",
    "def grafico_barras_int(titulo, eixo_x, eixo_y, data):\n",
    "    x_values = [tuplo_para_intervalo(key) for key in data.keys()]\n",
    "    y_values = data.values()   \n",
    "\n",
    "    barras = plt.bar(x_values, y_values)\n",
    "    plt.bar_label(barras, labels=y_values)\n",
    "    \n",
    "    manager = plt.get_current_fig_manager()\n",
    "    manager.set_window_title(titulo)\n",
    "\n",
    "    plt.title(titulo)\n",
    "    plt.xlabel(eixo_x)\n",
    "    plt.ylabel(eixo_y)\n",
    "    plt.xticks(rotation=45)\n",
    "    \n",
    "    plt.show()\n",
    "    \n",
    "def grafico_circular(titulo, data):\n",
    "    tuplos_filtrados = [(key,value) for (key,value) in zip(data.keys(),data.values()) if value > 0]\n",
    "    filtered_labels = [x[0] for x in tuplos_filtrados]\n",
    "    filtered_values = [x[1] for x in tuplos_filtrados]\n",
    "    \n",
    "    plt.pie(filtered_values, labels=filtered_labels, autopct='%.2f %%')\n",
    "    \n",
    "    total = sum(filtered_values)\n",
    "    plt.legend(\n",
    "        labels=[('%s, %.2f %%') % (label, (value/total)*100) for (label,value) in tuplos_filtrados],\n",
    "        prop={'size': 11},\n",
    "        loc='upper left', \n",
    "        bbox_to_anchor=(-0.4, 1.03)\n",
    "    )\n",
    "\n",
    "    manager = plt.get_current_fig_manager()\n",
    "    manager.set_window_title(titulo)   \n",
    "    plt.title(titulo)\n",
    "\n",
    "    plt.show()\n",
    "    \n",
    "def grafico_circular_int(titulo, data):\n",
    "    tuplos_filtrados = [(tuplo_para_intervalo(key),value) for (key,value) in zip(data.keys(),data.values()) if value > 0]\n",
    "    filtered_labels = [x[0] for x in tuplos_filtrados]\n",
    "    filtered_values = [x[1] for x in tuplos_filtrados]\n",
    "    \n",
    "    plt.pie(filtered_values, labels=filtered_labels, autopct='%.2f %%')\n",
    "    \n",
    "    total = sum(filtered_values)\n",
    "    plt.legend(\n",
    "        labels=[('%s, %.2f %%') % (label, (value/total)*100) for (label,value) in tuplos_filtrados],\n",
    "        prop={'size': 11},\n",
    "        loc='upper left', \n",
    "        bbox_to_anchor=(-0.4, 1.03)\n",
    "    )\n",
    "        \n",
    "    manager = plt.get_current_fig_manager()\n",
    "    manager.set_window_title(titulo)\n",
    "    plt.title(titulo)\n",
    "    \n",
    "    plt.show()"
   ]
  },
  {
   "attachments": {},
   "cell_type": "markdown",
   "metadata": {},
   "source": [
    "9. Extra: Menu para seleção de cada um dos gráficos implementados para visualização das distribuições pedidas acima. Para uma utilização mais intuitiva, recomenda-se a utilização do ficheiro 'TPC1.py'."
   ]
  },
  {
   "cell_type": "code",
   "execution_count": null,
   "metadata": {
    "scrolled": true
   },
   "outputs": [],
   "source": [
    "def menu(dict_dist_sex, dict_dist_idade, dict_dist_colestrol):\n",
    "    table = PrettyTable()\n",
    "    table.title = \"Menu de Gráficos\"\n",
    "    table.field_names = [\"Nº\", \"Opção\"]\n",
    "    table.align['Opção'] = 'l'\n",
    "    \n",
    "    table.add_row([\"\", \"Gráfico de Barras\"])\n",
    "    table.add_row([\"---\", \"-------------------------------------------------------\"])\n",
    "    table.add_row([\"1\", \"Distribuição da doença por sexo\"])\n",
    "    table.add_row([\"2\", \"Distribuição da doença por escalão etário\"])\n",
    "    table.add_row([\"3\", \"Distribuição da doença por nível de colestrol\"])\n",
    "    table.add_row([\"---\", \"-------------------------------------------------------\"])\n",
    "    table.add_row([\"\", \"Gráfico Circular\"])\n",
    "    table.add_row([\"---\", \"-------------------------------------------------------\"])    \n",
    "    table.add_row([\"4\", \"Distribuição da doença por sexo\"])\n",
    "    table.add_row([\"5\", \"Distribuição da doença por escalão etário\"])\n",
    "    table.add_row([\"6\", \"Distribuição da doença por nível de colestrol\"])\n",
    "    table.add_row([\"---\", \"-------------------------------------------------------\"])\n",
    "    table.add_row([\"0\", \"Sair\"])\n",
    "    \n",
    "    saida = -1\n",
    "    opcao_invalida = False\n",
    "    while saida != 0:        \n",
    "        if not opcao_invalida:\n",
    "            print(\"\\n\", end='')\n",
    "            print(table)\n",
    "\n",
    "        option_flag = False\n",
    "        opcao = input(\"\\nIntroduza a sua opção: \")\n",
    "        while not option_flag:\n",
    "            try:\n",
    "                opcao = int(opcao)\n",
    "                if opcao < 0 or opcao > 6:\n",
    "                    print(\"Opção inválida!\")\n",
    "                    option_flag = False\n",
    "                    opcao = input(\"\\nIntroduza novamente a sua opção: \")\n",
    "                else:\n",
    "                    option_flag = True\n",
    "            except ValueError:\n",
    "                print(\"Opção inválida!\")\n",
    "                option_flag = False\n",
    "                opcao = input(\"\\nIntroduza novamente a sua opção: \")\n",
    "\n",
    "        saida = opcao\n",
    "        opcao_invalida = False\n",
    "        \n",
    "        if saida == 1:\n",
    "            grafico_barras(\"Distribuição da doença por sexo\", \"Sexo\", \"Frequência\", dict_dist_sex)\n",
    "\n",
    "        elif saida == 2:\n",
    "            grafico_barras_int(\"Distribuição da doença por escalão etário\", \"Idade\", \"Frequência\", dict_dist_idade)\n",
    "\n",
    "        elif saida == 3:\n",
    "            grafico_barras_int(\"Distribuição da doença por nível de colestrol\", \"Colestrol\", \"Frequência\", dict_dist_colestrol)\n",
    "\n",
    "        elif saida == 4:\n",
    "            grafico_circular(\"Distribuição da doença por sexo\", dict_dist_sex)\n",
    "\n",
    "        elif saida == 5:\n",
    "            grafico_circular_int(\"Distribuição da doença por escalão etário\", dict_dist_idade)\n",
    "\n",
    "        elif saida == 6:\n",
    "            grafico_circular_int(\"Distribuição da doença por nível de colestrol\", dict_dist_colestrol)\n",
    "\n",
    "        elif saida != 0:\n",
    "            print(\"Opção inválida!\")\n",
    "            opcao_invalida = True\n",
    "\n",
    "menu(dict_dist_sex, dict_dist_idade, dict_dist_colestrol)"
   ]
  }
 ],
 "metadata": {
  "author": {
   "name": "Ricardo Cardoso Sousa"
  },
  "kernelspec": {
   "display_name": "Python 3",
   "language": "python",
   "name": "python3"
  },
  "language_info": {
   "codemirror_mode": {
    "name": "ipython",
    "version": 3
   },
   "file_extension": ".py",
   "mimetype": "text/x-python",
   "name": "python",
   "nbconvert_exporter": "python",
   "pygments_lexer": "ipython3",
   "version": "3.10.6"
  },
  "vscode": {
   "interpreter": {
    "hash": "916dbcbb3f70747c44a77c7bcd40155683ae19c65e1c03b4aa3499c5328201f1"
   }
  }
 },
 "nbformat": 4,
 "nbformat_minor": 2
}
